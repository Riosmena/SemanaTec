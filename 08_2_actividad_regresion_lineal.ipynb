{
  "nbformat": 4,
  "nbformat_minor": 0,
  "metadata": {
    "colab": {
      "provenance": []
    },
    "kernelspec": {
      "name": "python3",
      "display_name": "Python 3"
    },
    "language_info": {
      "name": "python"
    }
  },
  "cells": [
    {
      "cell_type": "markdown",
      "source": [
        "# Actividad - Regresión Lineal"
      ],
      "metadata": {
        "id": "Zlev5tghCy2G"
      }
    },
    {
      "cell_type": "markdown",
      "source": [
        "* **Nombre:** José Emiliano Riosmena Castañón\n",
        "* **Matrícula:** A01704245"
      ],
      "metadata": {
        "id": "UzLPBnd5C4xy"
      }
    },
    {
      "cell_type": "markdown",
      "source": [
        "**Entregar:** Archivo PDF de la actividad, así como el archivo .ipynb en tu repositorio. <br>\n",
        "**Nota:** Recuerda habrá una penalización de **50** puntos si la actividad fue entregada fuera de la fecha límite. <br>\n",
        "**Importante**:\n",
        "  * Colocar nombres de ejes en gráficas.\n",
        "  * Títulos en las gráficas.\n",
        "  * Contestar cada pregunta."
      ],
      "metadata": {
        "id": "CIeakL6CDCTC"
      }
    },
    {
      "cell_type": "markdown",
      "source": [
        "Carga el conjunto de datos `presion.csv` (se encuentra en el repositorio de la clase) y realiza un análisis estadístico de las variables."
      ],
      "metadata": {
        "id": "tU8Hn1jdDNTc"
      }
    },
    {
      "cell_type": "code",
      "source": [
        "# Carga las librerías necesarias.\n",
        "import pandas as pd\n",
        "import numpy as np\n",
        "import matplotlib.pyplot as plt\n",
        "import seaborn as sns; sns.set()\n",
        "from sklearn.linear_model import LinearRegression"
      ],
      "metadata": {
        "id": "7ehdNB9iDBi7"
      },
      "execution_count": 1,
      "outputs": []
    },
    {
      "cell_type": "code",
      "source": [
        "# Carga el conjunto de datos al ambiente de Google Colab y muestra los primeros\n",
        "# 6 renglones.\n",
        "df = pd.read_csv('presion.csv')\n",
        "df.head(6)"
      ],
      "metadata": {
        "id": "vvPwkAtkDasd",
        "colab": {
          "base_uri": "https://localhost:8080/",
          "height": 237
        },
        "outputId": "9eb0c3a9-99fe-418b-c05e-5ed16a3dd892"
      },
      "execution_count": 2,
      "outputs": [
        {
          "output_type": "execute_result",
          "data": {
            "text/plain": [
              "   Age  Average of ap_hi  Average of ap_lo\n",
              "0   30        112.500000         72.500000\n",
              "1   39        119.029340         88.229829\n",
              "2   40        119.789630         85.858889\n",
              "3   41        121.490862         90.344648\n",
              "4   42        120.163872         89.887957\n",
              "5   43        141.294203         93.388406"
            ],
            "text/html": [
              "\n",
              "  <div id=\"df-e47fe343-637f-4c85-82ce-cdb1f6254b52\">\n",
              "    <div class=\"colab-df-container\">\n",
              "      <div>\n",
              "<style scoped>\n",
              "    .dataframe tbody tr th:only-of-type {\n",
              "        vertical-align: middle;\n",
              "    }\n",
              "\n",
              "    .dataframe tbody tr th {\n",
              "        vertical-align: top;\n",
              "    }\n",
              "\n",
              "    .dataframe thead th {\n",
              "        text-align: right;\n",
              "    }\n",
              "</style>\n",
              "<table border=\"1\" class=\"dataframe\">\n",
              "  <thead>\n",
              "    <tr style=\"text-align: right;\">\n",
              "      <th></th>\n",
              "      <th>Age</th>\n",
              "      <th>Average of ap_hi</th>\n",
              "      <th>Average of ap_lo</th>\n",
              "    </tr>\n",
              "  </thead>\n",
              "  <tbody>\n",
              "    <tr>\n",
              "      <th>0</th>\n",
              "      <td>30</td>\n",
              "      <td>112.500000</td>\n",
              "      <td>72.500000</td>\n",
              "    </tr>\n",
              "    <tr>\n",
              "      <th>1</th>\n",
              "      <td>39</td>\n",
              "      <td>119.029340</td>\n",
              "      <td>88.229829</td>\n",
              "    </tr>\n",
              "    <tr>\n",
              "      <th>2</th>\n",
              "      <td>40</td>\n",
              "      <td>119.789630</td>\n",
              "      <td>85.858889</td>\n",
              "    </tr>\n",
              "    <tr>\n",
              "      <th>3</th>\n",
              "      <td>41</td>\n",
              "      <td>121.490862</td>\n",
              "      <td>90.344648</td>\n",
              "    </tr>\n",
              "    <tr>\n",
              "      <th>4</th>\n",
              "      <td>42</td>\n",
              "      <td>120.163872</td>\n",
              "      <td>89.887957</td>\n",
              "    </tr>\n",
              "    <tr>\n",
              "      <th>5</th>\n",
              "      <td>43</td>\n",
              "      <td>141.294203</td>\n",
              "      <td>93.388406</td>\n",
              "    </tr>\n",
              "  </tbody>\n",
              "</table>\n",
              "</div>\n",
              "      <button class=\"colab-df-convert\" onclick=\"convertToInteractive('df-e47fe343-637f-4c85-82ce-cdb1f6254b52')\"\n",
              "              title=\"Convert this dataframe to an interactive table.\"\n",
              "              style=\"display:none;\">\n",
              "        \n",
              "  <svg xmlns=\"http://www.w3.org/2000/svg\" height=\"24px\"viewBox=\"0 0 24 24\"\n",
              "       width=\"24px\">\n",
              "    <path d=\"M0 0h24v24H0V0z\" fill=\"none\"/>\n",
              "    <path d=\"M18.56 5.44l.94 2.06.94-2.06 2.06-.94-2.06-.94-.94-2.06-.94 2.06-2.06.94zm-11 1L8.5 8.5l.94-2.06 2.06-.94-2.06-.94L8.5 2.5l-.94 2.06-2.06.94zm10 10l.94 2.06.94-2.06 2.06-.94-2.06-.94-.94-2.06-.94 2.06-2.06.94z\"/><path d=\"M17.41 7.96l-1.37-1.37c-.4-.4-.92-.59-1.43-.59-.52 0-1.04.2-1.43.59L10.3 9.45l-7.72 7.72c-.78.78-.78 2.05 0 2.83L4 21.41c.39.39.9.59 1.41.59.51 0 1.02-.2 1.41-.59l7.78-7.78 2.81-2.81c.8-.78.8-2.07 0-2.86zM5.41 20L4 18.59l7.72-7.72 1.47 1.35L5.41 20z\"/>\n",
              "  </svg>\n",
              "      </button>\n",
              "      \n",
              "  <style>\n",
              "    .colab-df-container {\n",
              "      display:flex;\n",
              "      flex-wrap:wrap;\n",
              "      gap: 12px;\n",
              "    }\n",
              "\n",
              "    .colab-df-convert {\n",
              "      background-color: #E8F0FE;\n",
              "      border: none;\n",
              "      border-radius: 50%;\n",
              "      cursor: pointer;\n",
              "      display: none;\n",
              "      fill: #1967D2;\n",
              "      height: 32px;\n",
              "      padding: 0 0 0 0;\n",
              "      width: 32px;\n",
              "    }\n",
              "\n",
              "    .colab-df-convert:hover {\n",
              "      background-color: #E2EBFA;\n",
              "      box-shadow: 0px 1px 2px rgba(60, 64, 67, 0.3), 0px 1px 3px 1px rgba(60, 64, 67, 0.15);\n",
              "      fill: #174EA6;\n",
              "    }\n",
              "\n",
              "    [theme=dark] .colab-df-convert {\n",
              "      background-color: #3B4455;\n",
              "      fill: #D2E3FC;\n",
              "    }\n",
              "\n",
              "    [theme=dark] .colab-df-convert:hover {\n",
              "      background-color: #434B5C;\n",
              "      box-shadow: 0px 1px 3px 1px rgba(0, 0, 0, 0.15);\n",
              "      filter: drop-shadow(0px 1px 2px rgba(0, 0, 0, 0.3));\n",
              "      fill: #FFFFFF;\n",
              "    }\n",
              "  </style>\n",
              "\n",
              "      <script>\n",
              "        const buttonEl =\n",
              "          document.querySelector('#df-e47fe343-637f-4c85-82ce-cdb1f6254b52 button.colab-df-convert');\n",
              "        buttonEl.style.display =\n",
              "          google.colab.kernel.accessAllowed ? 'block' : 'none';\n",
              "\n",
              "        async function convertToInteractive(key) {\n",
              "          const element = document.querySelector('#df-e47fe343-637f-4c85-82ce-cdb1f6254b52');\n",
              "          const dataTable =\n",
              "            await google.colab.kernel.invokeFunction('convertToInteractive',\n",
              "                                                     [key], {});\n",
              "          if (!dataTable) return;\n",
              "\n",
              "          const docLinkHtml = 'Like what you see? Visit the ' +\n",
              "            '<a target=\"_blank\" href=https://colab.research.google.com/notebooks/data_table.ipynb>data table notebook</a>'\n",
              "            + ' to learn more about interactive tables.';\n",
              "          element.innerHTML = '';\n",
              "          dataTable['output_type'] = 'display_data';\n",
              "          await google.colab.output.renderOutput(dataTable, element);\n",
              "          const docLink = document.createElement('div');\n",
              "          docLink.innerHTML = docLinkHtml;\n",
              "          element.appendChild(docLink);\n",
              "        }\n",
              "      </script>\n",
              "    </div>\n",
              "  </div>\n",
              "  "
            ]
          },
          "metadata": {},
          "execution_count": 2
        }
      ]
    },
    {
      "cell_type": "markdown",
      "source": [
        "El conjunto de datos contiene información demográfica sobre los asegurados en una compañía de seguros:\n",
        "* **Age**: Edad de la persona.\n",
        "* **Average of ap_hi**: Promedio de presión alta.\n",
        "* **Average of ap_lo**: Promedio de presión baja."
      ],
      "metadata": {
        "id": "HjeUwH4QE7QZ"
      }
    },
    {
      "cell_type": "code",
      "source": [
        "# Grafica la información de la edad y presión alta\n",
        "plt.scatter(df['Age'], df['Average of ap_hi'])"
      ],
      "metadata": {
        "id": "5dD7I6aKDej4",
        "colab": {
          "base_uri": "https://localhost:8080/",
          "height": 285
        },
        "outputId": "374d4276-2db4-49eb-93cb-66ba6d7aa5a7"
      },
      "execution_count": 3,
      "outputs": [
        {
          "output_type": "execute_result",
          "data": {
            "text/plain": [
              "<matplotlib.collections.PathCollection at 0x7f15e49b9b20>"
            ]
          },
          "metadata": {},
          "execution_count": 3
        },
        {
          "output_type": "display_data",
          "data": {
            "text/plain": [
              "<Figure size 432x288 with 1 Axes>"
            ],
            "image/png": "[encoded data removed]"
          },
          "metadata": {}
        }
      ]
    },
    {
      "cell_type": "code",
      "source": [
        "# Grafica la información de la edad y presión baja\n",
        "plt.scatter(df['Age'], df['Average of ap_lo'])"
      ],
      "metadata": {
        "id": "pZUxcJb9EEQn",
        "colab": {
          "base_uri": "https://localhost:8080/",
          "height": 286
        },
        "outputId": "255f5c18-8603-4ede-8167-19e73562d199"
      },
      "execution_count": 4,
      "outputs": [
        {
          "output_type": "execute_result",
          "data": {
            "text/plain": [
              "<matplotlib.collections.PathCollection at 0x7f15e4bb9c70>"
            ]
          },
          "metadata": {},
          "execution_count": 4
        },
        {
          "output_type": "display_data",
          "data": {
            "text/plain": [
              "<Figure size 432x288 with 1 Axes>"
            ],
            "image/png": "[encoded data removed]"
          },
          "metadata": {}
        }
      ]
    },
    {
      "cell_type": "markdown",
      "source": [
        "Genera una regresión líneal para obtener una aproximación de la ecuación \n",
        "$$ y = ax + b $$\n",
        "donde $ a $ se conoce comúnmente como **pendiente**, y $ b $ se conoce comúnmente como **intersección**, tanto para presión alta como la presión baja."
      ],
      "metadata": {
        "id": "xmE4DAgV1-cV"
      }
    },
    {
      "cell_type": "code",
      "source": [
        "# ¿Cuál es el valor de a y cuál es el valor de b para la presión alta?\n",
        "model1 = LinearRegression(fit_intercept = True)\n",
        "model1.fit(df['Age'][:, np.newaxis], df['Average of ap_hi'])\n",
        "\n",
        "print(\"Valor de A:\", model1.coef_[0])\n",
        "print(\"Valor de B:\", model1.intercept_)"
      ],
      "metadata": {
        "id": "ZpWI2bbM2VhT",
        "colab": {
          "base_uri": "https://localhost:8080/"
        },
        "outputId": "2551af03-fd3a-416b-d328-04b367a9b5db"
      },
      "execution_count": 7,
      "outputs": [
        {
          "output_type": "stream",
          "name": "stdout",
          "text": [
            "Valor de A: 0.47769702977669154\n",
            "Valor de B: 103.3969740964366\n"
          ]
        },
        {
          "output_type": "stream",
          "name": "stderr",
          "text": [
            "<ipython-input-7-c5cdf433a562>:3: FutureWarning: Support for multi-dimensional indexing (e.g. `obj[:, None]`) is deprecated and will be removed in a future version.  Convert to a numpy array before indexing instead.\n",
            "  model1.fit(df['Age'][:, np.newaxis], df['Average of ap_hi'])\n"
          ]
        }
      ]
    },
    {
      "cell_type": "code",
      "source": [
        "# ¿Cuál es el valor de a y cuál es el valor de b para la presión baja?\n",
        "model2 = LinearRegression(fit_intercept = True)\n",
        "model2.fit(df['Age'][:, np.newaxis], df['Average of ap_lo'])\n",
        "\n",
        "print(\"Valor de A:\", model2.coef_[0])\n",
        "print(\"Valor de B:\", model2.intercept_)"
      ],
      "metadata": {
        "id": "zfAovcIj2aDq",
        "colab": {
          "base_uri": "https://localhost:8080/"
        },
        "outputId": "688cf1ad-64b0-4dd8-ad88-7d5ec3f590ec"
      },
      "execution_count": 8,
      "outputs": [
        {
          "output_type": "stream",
          "name": "stdout",
          "text": [
            "Valor de A: 0.6089810580238237\n",
            "Valor de B: 63.726200409422745\n"
          ]
        },
        {
          "output_type": "stream",
          "name": "stderr",
          "text": [
            "<ipython-input-8-3f9f8efc55ce>:3: FutureWarning: Support for multi-dimensional indexing (e.g. `obj[:, None]`) is deprecated and will be removed in a future version.  Convert to a numpy array before indexing instead.\n",
            "  model2.fit(df['Age'][:, np.newaxis], df['Average of ap_lo'])\n"
          ]
        }
      ]
    },
    {
      "cell_type": "markdown",
      "source": [
        "Gráfica los datos reales contra los obtenidos con el modelo. Se debe visualizar los datos reales (azúl), recta del modelo (negro)y distancias entre ambos. (verde) "
      ],
      "metadata": {
        "id": "BHcPbc-62cSv"
      }
    },
    {
      "cell_type": "code",
      "source": [
        "# Presión alta\n",
        "fitx = np.linspace(0, 70, 1000)\n",
        "fity = model1.predict(fitx[:, np.newaxis])\n",
        "\n",
        "plt.scatter(df['Age'], df['Average of ap_hi'], color = \"blue\")\n",
        "plt.plot(fitx, fity, color = \"black\")\n",
        "plt.plot(np.vstack([df['Age'],df['Age']]), np.vstack([df['Average of ap_hi'], model1.predict(df['Age'][:, np.newaxis])]), color=\"green\")"
      ],
      "metadata": {
        "id": "QcsqHm1iFmFX",
        "colab": {
          "base_uri": "https://localhost:8080/",
          "height": 809
        },
        "outputId": "679bde30-9710-4d8b-e886-732e59f552b1"
      },
      "execution_count": 9,
      "outputs": [
        {
          "output_type": "stream",
          "name": "stderr",
          "text": [
            "<ipython-input-9-edf090a10c03>:7: FutureWarning: Support for multi-dimensional indexing (e.g. `obj[:, None]`) is deprecated and will be removed in a future version.  Convert to a numpy array before indexing instead.\n",
            "  plt.plot(np.vstack([df['Age'],df['Age']]), np.vstack([df['Average of ap_hi'], model1.predict(df['Age'][:, np.newaxis])]), color=\"green\")\n"
          ]
        },
        {
          "output_type": "execute_result",
          "data": {
            "text/plain": [
              "[<matplotlib.lines.Line2D at 0x7f15e4800970>,\n",
              " <matplotlib.lines.Line2D at 0x7f15e48009a0>,\n",
              " <matplotlib.lines.Line2D at 0x7f15e48009d0>,\n",
              " <matplotlib.lines.Line2D at 0x7f15e4800ac0>,\n",
              " <matplotlib.lines.Line2D at 0x7f15e4800bb0>,\n",
              " <matplotlib.lines.Line2D at 0x7f15e4800ca0>,\n",
              " <matplotlib.lines.Line2D at 0x7f15e4800d90>,\n",
              " <matplotlib.lines.Line2D at 0x7f15e4800e80>,\n",
              " <matplotlib.lines.Line2D at 0x7f15e4800f70>,\n",
              " <matplotlib.lines.Line2D at 0x7f15e4812dc0>,\n",
              " <matplotlib.lines.Line2D at 0x7f15e4812f10>,\n",
              " <matplotlib.lines.Line2D at 0x7f15e4812ee0>,\n",
              " <matplotlib.lines.Line2D at 0x7f15e4812100>,\n",
              " <matplotlib.lines.Line2D at 0x7f15e48121f0>,\n",
              " <matplotlib.lines.Line2D at 0x7f15e48122e0>,\n",
              " <matplotlib.lines.Line2D at 0x7f15e48123d0>,\n",
              " <matplotlib.lines.Line2D at 0x7f15e48124c0>,\n",
              " <matplotlib.lines.Line2D at 0x7f15e48125b0>,\n",
              " <matplotlib.lines.Line2D at 0x7f15e4800190>,\n",
              " <matplotlib.lines.Line2D at 0x7f15e48126a0>,\n",
              " <matplotlib.lines.Line2D at 0x7f15e4812790>,\n",
              " <matplotlib.lines.Line2D at 0x7f15e48128e0>,\n",
              " <matplotlib.lines.Line2D at 0x7f15e48129d0>,\n",
              " <matplotlib.lines.Line2D at 0x7f15e4812ac0>,\n",
              " <matplotlib.lines.Line2D at 0x7f15e4812bb0>,\n",
              " <matplotlib.lines.Line2D at 0x7f15e4812ca0>,\n",
              " <matplotlib.lines.Line2D at 0x7f15e47f6040>,\n",
              " <matplotlib.lines.Line2D at 0x7f15e47f6130>]"
            ]
          },
          "metadata": {},
          "execution_count": 9
        },
        {
          "output_type": "display_data",
          "data": {
            "text/plain": [
              "<Figure size 432x288 with 1 Axes>"
            ],
            "image/png": "[encoded data removed]"
          },
          "metadata": {}
        }
      ]
    },
    {
      "cell_type": "code",
      "source": [
        "# Presión baja\n",
        "fitx = np.linspace(0, 70, 1000)\n",
        "fity = model2.predict(fitx[:, np.newaxis])\n",
        "\n",
        "plt.scatter(df['Age'], df['Average of ap_lo'], color = \"blue\")\n",
        "plt.plot(fitx, fity, color = \"black\")\n",
        "plt.plot(np.vstack([df['Age'],df['Age']]), np.vstack([df['Average of ap_lo'], model2.predict(df['Age'][:, np.newaxis])]), color=\"green\")"
      ],
      "metadata": {
        "id": "oHueQgzsEm5V",
        "colab": {
          "base_uri": "https://localhost:8080/",
          "height": 809
        },
        "outputId": "1f82baac-dde0-41e6-f8d4-8357d04f111f"
      },
      "execution_count": 10,
      "outputs": [
        {
          "output_type": "stream",
          "name": "stderr",
          "text": [
            "<ipython-input-10-32fbcc7d51ff>:7: FutureWarning: Support for multi-dimensional indexing (e.g. `obj[:, None]`) is deprecated and will be removed in a future version.  Convert to a numpy array before indexing instead.\n",
            "  plt.plot(np.vstack([df['Age'],df['Age']]), np.vstack([df['Average of ap_lo'], model2.predict(df['Age'][:, np.newaxis])]), color=\"green\")\n"
          ]
        },
        {
          "output_type": "execute_result",
          "data": {
            "text/plain": [
              "[<matplotlib.lines.Line2D at 0x7f15e1df1370>,\n",
              " <matplotlib.lines.Line2D at 0x7f15e1df1550>,\n",
              " <matplotlib.lines.Line2D at 0x7f15e1df1490>,\n",
              " <matplotlib.lines.Line2D at 0x7f15e1df1250>,\n",
              " <matplotlib.lines.Line2D at 0x7f15e1df12e0>,\n",
              " <matplotlib.lines.Line2D at 0x7f15e1df1190>,\n",
              " <matplotlib.lines.Line2D at 0x7f15e1df1130>,\n",
              " <matplotlib.lines.Line2D at 0x7f15e1dfa0a0>,\n",
              " <matplotlib.lines.Line2D at 0x7f15e1dfa190>,\n",
              " <matplotlib.lines.Line2D at 0x7f15e1dfa280>,\n",
              " <matplotlib.lines.Line2D at 0x7f15e1dfa370>,\n",
              " <matplotlib.lines.Line2D at 0x7f15e1dfa460>,\n",
              " <matplotlib.lines.Line2D at 0x7f15e1dfa550>,\n",
              " <matplotlib.lines.Line2D at 0x7f15e1dfa640>,\n",
              " <matplotlib.lines.Line2D at 0x7f15e1dfa730>,\n",
              " <matplotlib.lines.Line2D at 0x7f15e1dfa820>,\n",
              " <matplotlib.lines.Line2D at 0x7f15e1dfa910>,\n",
              " <matplotlib.lines.Line2D at 0x7f15e1dfaa00>,\n",
              " <matplotlib.lines.Line2D at 0x7f15e1dfaaf0>,\n",
              " <matplotlib.lines.Line2D at 0x7f15e1dfabe0>,\n",
              " <matplotlib.lines.Line2D at 0x7f15e1dfacd0>,\n",
              " <matplotlib.lines.Line2D at 0x7f15e1dfadc0>,\n",
              " <matplotlib.lines.Line2D at 0x7f15e1dfaeb0>,\n",
              " <matplotlib.lines.Line2D at 0x7f15e1dfafa0>,\n",
              " <matplotlib.lines.Line2D at 0x7f15e493e460>,\n",
              " <matplotlib.lines.Line2D at 0x7f15e1e05eb0>,\n",
              " <matplotlib.lines.Line2D at 0x7f15e1e05be0>,\n",
              " <matplotlib.lines.Line2D at 0x7f15e1e05df0>]"
            ]
          },
          "metadata": {},
          "execution_count": 10
        },
        {
          "output_type": "display_data",
          "data": {
            "text/plain": [
              "<Figure size 432x288 with 1 Axes>"
            ],
            "image/png": "[encoded data removed]"
          },
          "metadata": {}
        }
      ]
    },
    {
      "cell_type": "markdown",
      "source": [
        "¿Cual es la presión arterial atal y baja para una persona de cierta edad? Genera dos funciones que calculen los anterior."
      ],
      "metadata": {
        "id": "g864g0TD20l-"
      }
    },
    {
      "cell_type": "code",
      "source": [
        "def pressure_low(age):\n",
        "  return model2.predict([[age]])\n",
        "\n",
        "query_age= 76\n",
        "pressure_low(query_age)"
      ],
      "metadata": {
        "id": "lJs6pUN0FvUn",
        "colab": {
          "base_uri": "https://localhost:8080/"
        },
        "outputId": "75697182-21b0-4cfa-f000-d21ba627ec76"
      },
      "execution_count": 13,
      "outputs": [
        {
          "output_type": "execute_result",
          "data": {
            "text/plain": [
              "array([110.00876082])"
            ]
          },
          "metadata": {},
          "execution_count": 13
        }
      ]
    },
    {
      "cell_type": "code",
      "source": [
        "def pressure_high(age):\n",
        "  return model1.predict([[age]])\n",
        "\n",
        "query_age= 76\n",
        "pressure_high(query_age)"
      ],
      "metadata": {
        "id": "N4ZCiN343Nyp",
        "colab": {
          "base_uri": "https://localhost:8080/"
        },
        "outputId": "fd83d5ef-d5ba-4ab3-8784-99e8aab5ecc0"
      },
      "execution_count": 14,
      "outputs": [
        {
          "output_type": "execute_result",
          "data": {
            "text/plain": [
              "array([139.70194836])"
            ]
          },
          "metadata": {},
          "execution_count": 14
        }
      ]
    }
  ]
}